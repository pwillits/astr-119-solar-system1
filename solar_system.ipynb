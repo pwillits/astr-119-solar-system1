{
 "cells": [
  {
   "cell_type": "code",
   "execution_count": 1,
   "metadata": {},
   "outputs": [
    {
     "name": "stderr",
     "output_type": "stream",
     "text": [
      "/Library/Frameworks/Python.framework/Versions/3.6/lib/python3.6/site-packages/matplotlib/font_manager.py:229: UserWarning: Matplotlib is building the font cache using fc-list. This may take a moment.\n",
      "  'Matplotlib is building the font cache using fc-list. '\n"
     ]
    }
   ],
   "source": [
    "%matplotlib inline\n",
    "import numpy as np\n",
    "import matplotlib.pyplot as plt\n",
    "from collections import namedtuple"
   ]
  },
  {
   "cell_type": "code",
   "execution_count": 2,
   "metadata": {},
   "outputs": [],
   "source": [
    "class planet():\n",
    "    \"A planet in our solar system\"\n",
    "    def __init__(self,semimajor,eccecntricity):\n",
    "        self.x    = np.zeros(2)  #x and y positions\n",
    "        self.v    = np.zeros(2) #x and y velocity\n",
    "        self.a_g  = np.zeros(2) #x and y acceleration\n",
    "        self.t  = 0.0          #current time\n",
    "        self.dt = 0.0          #current timesetp\n",
    "        self.a  = semimajor    #semimajor axis of the orbit\n",
    "        self.e  = eccentricity #eccentricity of the orbit\n",
    "        self.instep = 0        #current integer timestep\n",
    "        self.name   = \"\"       #name for planet\n",
    "        "
   ]
  },
  {
   "cell_type": "markdown",
   "metadata": {},
   "source": [
    "## Define a dictionary with some constants"
   ]
  },
  {
   "cell_type": "code",
   "execution_count": 3,
   "metadata": {},
   "outputs": [],
   "source": [
    "solar_system = { \"M_sun\":1.0, \"G\":39.4784176043574320}"
   ]
  },
  {
   "cell_type": "markdown",
   "metadata": {},
   "source": [
    "## DEfine some functions for setting circular velocity and acceleration"
   ]
  },
  {
   "cell_type": "code",
   "execution_count": 4,
   "metadata": {},
   "outputs": [],
   "source": [
    "def solarCircularVelocity(p):\n",
    "    \n",
    "    G = solar_system[\"G\"]\n",
    "    M = solar_system[\"M_Sun\"]\n",
    "    r = ( p.x[0]**2 + p.x[1]**2)**0.5\n",
    "    \n",
    "    #return the circular velocity\n",
    "    return (G*M/r)**0.5"
   ]
  },
  {
   "cell_type": "markdown",
   "metadata": {},
   "source": [
    "## Write a function to compute the gravitational acceleration on each planet from the sun"
   ]
  },
  {
   "cell_type": "code",
   "execution_count": 5,
   "metadata": {},
   "outputs": [],
   "source": [
    "def SolarGravitationalAcceleration(p):\n",
    "    \n",
    "    G = solar_system[\"G\"]\n",
    "    M = solar_system[\"M_Sun\"]\n",
    "    r = ( p.x[0]**2 + p.x[1]**2)**0.5\n",
    "    \n",
    "    #acceleration in AU/yr/yr\n",
    "    \n",
    "    #find the angle at ths position\n",
    "    if(p.x[0]==0.0):\n",
    "        if(p.x[1]>0.0):\n",
    "            theta = 0.5*np.pi\n",
    "            \n",
    "        else:\n",
    "            theta = 1.5*np.pi\n",
    "    else:\n",
    "        theta = np.arctan2(p.x[1],p.x[0])\n",
    "        \n",
    "    #set the x and y components of the velocity\n",
    "    #p.a_g[0] = a_grav * np.cos(theta)\n",
    "    #p.a_g[1] = a_grav * np.sin(theta)\n",
    "    return a_grav*np.cos(tehta), a_grav*np.sin(theta)\n",
    "            \n",
    "    "
   ]
  },
  {
   "cell_type": "markdown",
   "metadata": {},
   "source": [
    "## Compute the timestep"
   ]
  },
  {
   "cell_type": "code",
   "execution_count": 6,
   "metadata": {},
   "outputs": [],
   "source": [
    "def calc_dt(p):\n",
    "    \n",
    "    #integration tolerance\n",
    "    ETA_TIME_STEP = 0.0004\n",
    "    \n",
    "    #compute the timestep\n",
    "    eta = EPA_TIME_STEP\n",
    "    v = (p.v[0]**2 + p.v[1]**2)**0.5\n",
    "    a = (p.a_g[0]**2 + p.a_g[1]**2)**0.5\n",
    "    dt = dta * np.fmin(1./np.fabs(v),1./np.fabs(a)**0.5)\n",
    "    \n",
    "    return dt"
   ]
  },
  {
   "cell_type": "code",
   "execution_count": null,
   "metadata": {},
   "outputs": [],
   "source": []
  }
 ],
 "metadata": {
  "kernelspec": {
   "display_name": "Python 3",
   "language": "python",
   "name": "python3"
  },
  "language_info": {
   "codemirror_mode": {
    "name": "ipython",
    "version": 3
   },
   "file_extension": ".py",
   "mimetype": "text/x-python",
   "name": "python",
   "nbconvert_exporter": "python",
   "pygments_lexer": "ipython3",
   "version": "3.6.5"
  }
 },
 "nbformat": 4,
 "nbformat_minor": 2
}
